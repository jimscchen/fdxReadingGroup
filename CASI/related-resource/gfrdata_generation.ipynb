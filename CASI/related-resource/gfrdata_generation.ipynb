{
 "cells": [
  {
   "cell_type": "markdown",
   "metadata": {},
   "source": [
    "# GFR Data Generation\n",
    "### _Computer Age Statistical Inference_ (CASI) Study Group\n",
    "#### Author: Jim Chen"
   ]
  },
  {
   "cell_type": "markdown",
   "metadata": {},
   "source": [
    "Import necessary libraries."
   ]
  },
  {
   "cell_type": "code",
   "execution_count": 2,
   "metadata": {
    "collapsed": true
   },
   "outputs": [],
   "source": [
    "import seaborn as sb\n",
    "import matplotlib.pyplot as plt\n",
    "%matplotlib inline\n",
    "\n",
    "import numpy as np\n",
    "import pandas as pd\n",
    "from scipy.stats import sem"
   ]
  },
  {
   "cell_type": "markdown",
   "metadata": {},
   "source": [
    "Set up to simulate sample of the distribution of GFR function."
   ]
  },
  {
   "cell_type": "code",
   "execution_count": 3,
   "metadata": {
    "collapsed": true
   },
   "outputs": [],
   "source": [
    "# Assign vector of frequency in distribution.\n",
    "x = [1, 3, 5, 9, 8, 14, 16, 20, 31, 22, 21, 10, 17, 3, 13, 1, 3, 1, 3, 3, 1, 2, 0, 0, 1, 0, 1, 2]"
   ]
  },
  {
   "cell_type": "code",
   "execution_count": 4,
   "metadata": {},
   "outputs": [],
   "source": [
    "np.random.seed(0)"
   ]
  },
  {
   "cell_type": "markdown",
   "metadata": {},
   "source": [
    "Simulate sample of distribution"
   ]
  },
  {
   "cell_type": "code",
   "execution_count": 5,
   "metadata": {},
   "outputs": [],
   "source": [
    "histStart = 100 - 25*3 + 1.5\n",
    "gfrdata = []\n",
    "for i, histCount in enumerate(x):\n",
    "    for j in range(histCount):\n",
    "        gfrdata.append(np.random.uniform(histStart-1.5+i*3, histStart+1.5+i*3))"
   ]
  },
  {
   "cell_type": "code",
   "execution_count": 6,
   "metadata": {},
   "outputs": [
    {
     "data": {
      "text/plain": [
       "[26.646440511781975,\n",
       " 30.14556809911726,\n",
       " 29.80829012821493,\n",
       " 29.63464954899069,\n",
       " 32.270964398016716,\n",
       " 32.93768233919997,\n",
       " 32.31276163378808,\n",
       " 33.67531900234624,\n",
       " 33.890988281503084,\n",
       " 35.15032455647733,\n",
       " 36.375175114247995,\n",
       " 35.586684759258716,\n",
       " 35.704133683281796,\n",
       " 36.77678991487798,\n",
       " 34.213108174593664,\n",
       " 34.26138789910462,\n",
       " 34.06065519232098,\n",
       " 36.497859536643816,\n",
       " 39.33447025284955,\n",
       " 39.61003644474046,\n",
       " 39.93585502669829,\n",
       " 39.39747569265017,\n",
       " 38.3844380867588,\n",
       " 39.341587528859364,\n",
       " 37.3548232776068,\n",
       " 38.91976306398257,\n",
       " 40.43005986222714,\n",
       " 42.83400675114875,\n",
       " 41.56554496525021,\n",
       " 41.24398581997157,\n",
       " 40.79366683631388,\n",
       " 42.32270106830265,\n",
       " 41.36845099664964,\n",
       " 41.70530184660595,\n",
       " 40.05636940130906,\n",
       " 41.85290649122763,\n",
       " 41.83628716816727,\n",
       " 41.85080199062427,\n",
       " 42.83124423554387,\n",
       " 42.04546089731045,\n",
       " 44.07852370172136,\n",
       " 44.31109586139802,\n",
       " 45.092893587781795,\n",
       " 43.18067641488781,\n",
       " 45.000300146337004,\n",
       " 45.01191360885448,\n",
       " 43.63114768322152,\n",
       " 43.38677889296456,\n",
       " 43.94628505277255,\n",
       " 44.09113231282787,\n",
       " 44.71059031125364,\n",
       " 44.315804540386964,\n",
       " 45.96512151417768,\n",
       " 43.306134432244086,\n",
       " 43.6266302682845,\n",
       " 43.48392855365499,\n",
       " 47.959324976396196,\n",
       " 46.75987480761935,\n",
       " 47.39893231856892,\n",
       " 46.73327677600481,\n",
       " 46.47690875093656,\n",
       " 46.331125423492914,\n",
       " 47.96898876839582,\n",
       " 46.41454885404584,\n",
       " 46.58974708504016,\n",
       " 47.10617551198289,\n",
       " 48.46297968954381,\n",
       " 46.29130382737918,\n",
       " 48.51383472249641,\n",
       " 46.28829522368189,\n",
       " 48.92937839504019,\n",
       " 47.40595360494311,\n",
       " 48.93028326457101,\n",
       " 47.81453655923514,\n",
       " 48.21779073819491,\n",
       " 46.11756337676296,\n",
       " 49.848420887729226,\n",
       " 49.3605896836395,\n",
       " 49.88842059256643,\n",
       " 49.356183156862734,\n",
       " 49.95394953818193,\n",
       " 50.24278898354401,\n",
       " 49.19244248904635,\n",
       " 51.07741635811006,\n",
       " 50.69980436261972,\n",
       " 49.79616847281834,\n",
       " 50.5697441604001,\n",
       " 49.28182153227532,\n",
       " 50.727839486668536,\n",
       " 51.78788859272864,\n",
       " 49.955706857353974,\n",
       " 51.002231139891045,\n",
       " 49.39539358721318,\n",
       " 51.1489816123557,\n",
       " 49.8682182788416,\n",
       " 49.54957408602135,\n",
       " 50.75953880443025,\n",
       " 49.06032263856248,\n",
       " 51.48682008765209,\n",
       " 49.01408642857764,\n",
       " 51.03344961038869,\n",
       " 49.810023919576494,\n",
       " 51.20558206636778,\n",
       " 51.88656563535231,\n",
       " 49.746259430559874,\n",
       " 50.72847200325351,\n",
       " 50.77612579381552,\n",
       " 53.71675571737262,\n",
       " 52.66924489792186,\n",
       " 54.858247034550956,\n",
       " 53.34137613585288,\n",
       " 54.539226017413384,\n",
       " 54.098437825952516,\n",
       " 52.8923108525654,\n",
       " 54.44139345910743,\n",
       " 53.18951722254096,\n",
       " 54.643309591333484,\n",
       " 53.74381861790758,\n",
       " 54.64520608556456,\n",
       " 54.0775947702333,\n",
       " 54.17576283945892,\n",
       " 53.50397314578011,\n",
       " 54.86825090416967,\n",
       " 53.93197059768891,\n",
       " 53.271565145674536,\n",
       " 53.81917964238377,\n",
       " 52.057579594928,\n",
       " 52.90472445002365,\n",
       " 53.98052061247805,\n",
       " 55.87023282163133,\n",
       " 56.85404628699652,\n",
       " 56.2863061028373,\n",
       " 55.40642219266735,\n",
       " 55.89484697786809,\n",
       " 56.70989473210379,\n",
       " 56.77261828374452,\n",
       " 56.722975746548734,\n",
       " 56.9596024595714,\n",
       " 56.95630981000507,\n",
       " 56.29425530630192,\n",
       " 57.68963978755319,\n",
       " 56.10268561014369,\n",
       " 56.30759477579688,\n",
       " 57.67577006504702,\n",
       " 57.41858196713826,\n",
       " 57.1116657506211,\n",
       " 55.3006806619369,\n",
       " 57.75844784123402,\n",
       " 57.14272389864733,\n",
       " 57.9965410197036,\n",
       " 58.44834491397398,\n",
       " 60.604378172104646,\n",
       " 58.487478804029124,\n",
       " 59.84667869285153,\n",
       " 58.37145994854833,\n",
       " 60.544024687966704,\n",
       " 60.42195687617503,\n",
       " 59.70730221584378,\n",
       " 59.221549891678,\n",
       " 58.20750098636542,\n",
       " 63.09228631943369,\n",
       " 62.36062804803421,\n",
       " 63.16616679841104,\n",
       " 63.599146977785885,\n",
       " 63.92656451500866,\n",
       " 63.567410027177836,\n",
       " 61.035142252555005,\n",
       " 62.07993419343509,\n",
       " 63.18997168727218,\n",
       " 61.51488903178432,\n",
       " 62.56310981861239,\n",
       " 61.16301396501776,\n",
       " 61.599989574689204,\n",
       " 61.05556538338184,\n",
       " 63.381093110072264,\n",
       " 61.67177406418114,\n",
       " 62.03605504209071,\n",
       " 66.78424388039677,\n",
       " 66.1132432057706,\n",
       " 64.09551678859393,\n",
       " 67.49408246949373,\n",
       " 68.86443520449929,\n",
       " 68.7316857658125,\n",
       " 67.71367846412353,\n",
       " 69.80264199377439,\n",
       " 68.84189786789769,\n",
       " 68.60689840907487,\n",
       " 68.76972992906371,\n",
       " 69.1903660885503,\n",
       " 67.9358349864388,\n",
       " 68.19466318664827,\n",
       " 67.62953124692537,\n",
       " 67.55857901764101,\n",
       " 72.8331171699518,\n",
       " 75.21865238514786,\n",
       " 74.4713764258527,\n",
       " 73.68224388391997,\n",
       " 76.76306944531117,\n",
       " 79.17408748097162,\n",
       " 80.30324987667436,\n",
       " 79.9353876459823,\n",
       " 84.08903046644637,\n",
       " 83.13325551787744,\n",
       " 82.53881103267891,\n",
       " 85.074036185174,\n",
       " 88.20174889438975,\n",
       " 90.0381783204957,\n",
       " 98.36109053366813,\n",
       " 104.60973763332616,\n",
       " 108.69001387912103,\n",
       " 108.97101684219011]"
      ]
     },
     "execution_count": 6,
     "metadata": {},
     "output_type": "execute_result"
    }
   ],
   "source": [
    "gfrdata"
   ]
  },
  {
   "cell_type": "markdown",
   "metadata": {},
   "source": [
    "Display the mean of the sample, and the standard error of the mean.\n",
    "In frequentist statistics, the standard error of the mean gives us a range of likely values of the mean based on the sample.\n",
    "As noted in CASI Ch. 2, \"the frequentest principle [is] to attribute for $\\hat\\theta$ the accuracy properties of the ensemble of $\\hat\\Theta$ values (Efron and Hastie 14)."
   ]
  },
  {
   "cell_type": "code",
   "execution_count": 7,
   "metadata": {},
   "outputs": [
    {
     "data": {
      "text/plain": [
       "(53.881066282912002, 0.95202165832846308)"
      ]
     },
     "execution_count": 7,
     "metadata": {},
     "output_type": "execute_result"
    }
   ],
   "source": [
    "np.mean(gfrdata), sem(gfrdata)"
   ]
  },
  {
   "cell_type": "markdown",
   "metadata": {},
   "source": [
    "Plot the distribution of the simulated sample."
   ]
  },
  {
   "cell_type": "code",
   "execution_count": 8,
   "metadata": {},
   "outputs": [
    {
     "data": {
      "text/plain": [
       "<matplotlib.axes._subplots.AxesSubplot at 0xa85df28>"
      ]
     },
     "execution_count": 8,
     "metadata": {},
     "output_type": "execute_result"
    },
    {
     "data": {
      "image/png": "[encoded data removed]",
      "text/plain": [
       "<matplotlib.figure.Figure at 0xa85d748>"
      ]
     },
     "metadata": {},
     "output_type": "display_data"
    }
   ],
   "source": [
    "sb.distplot(gfrdata, kde=False, bins=range(22, 109, 3))"
   ]
  }
 ],
 "metadata": {
  "kernelspec": {
   "display_name": "Python 3",
   "language": "python",
   "name": "python3"
  },
  "language_info": {
   "codemirror_mode": {
    "name": "ipython",
    "version": 3
   },
   "file_extension": ".py",
   "mimetype": "text/x-python",
   "name": "python",
   "nbconvert_exporter": "python",
   "pygments_lexer": "ipython3",
   "version": "3.6.1"
  }
 },
 "nbformat": 4,
 "nbformat_minor": 2
}
