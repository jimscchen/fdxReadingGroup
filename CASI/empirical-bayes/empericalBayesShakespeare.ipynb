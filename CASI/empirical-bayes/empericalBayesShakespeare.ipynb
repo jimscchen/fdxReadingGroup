{
 "cells": [
  {
   "cell_type": "code",
   "execution_count": 1,
   "metadata": {
    "collapsed": true
   },
   "outputs": [],
   "source": [
    "import pandas as pd\n",
    "import numpy as np\n",
    "import re\n",
    "import os\n",
    "from collections import Counter"
   ]
  },
  {
   "cell_type": "markdown",
   "metadata": {},
   "source": [
    "Collect the list of txt files for each play and save to spPlays"
   ]
  },
  {
   "cell_type": "code",
   "execution_count": 2,
   "metadata": {
    "collapsed": false
   },
   "outputs": [],
   "source": [
    "#use this list to exclude certain plays\n",
    "excludedPlays = []\n",
    "\n",
    "spDir = 'shakespeare-plays-plus'\n",
    "spSubDir = [spDir + '/'+ x for x in os.listdir(spDir) if '.' not in x]\n",
    "spPlays = []\n",
    "\n",
    "for subDir in spSubDir:\n",
    "    spPlays = spPlays + [subDir + '/' + x for x in os.listdir(subDir) if 'txt' in x and x not in excludedPlays]\n"
   ]
  },
  {
   "cell_type": "markdown",
   "metadata": {},
   "source": [
    "Read all selected plays  \n",
    "Skip line if a line contains < (non-text)  \n",
    "Create CounterDict to store a word Counter for each play  \n",
    "The keys for CounterDict are play names without '.txt'"
   ]
  },
  {
   "cell_type": "code",
   "execution_count": 3,
   "metadata": {
    "collapsed": false
   },
   "outputs": [],
   "source": [
    "CounterDict = {}\n",
    "\n",
    "for spPlay in spPlays:\n",
    "    playName = spPlay.split('/')[-1].split('.')[0]\n",
    "    CounterDict[playName] = Counter()\n",
    "    with open(spPlay, 'r', encoding='utf-16') as playTxt:\n",
    "        for line in playTxt:\n",
    "            if '<' in line:\n",
    "                continue\n",
    "            if line.split():\n",
    "                #no additional text processing other than converting everything to lower case\n",
    "                CounterDict[playName].update(Counter(re.findall('\\w+', line.lower())))\n"
   ]
  },
  {
   "cell_type": "markdown",
   "metadata": {},
   "source": [
    "To do list:\n",
    "* leave one word out -- we can \"cheat\" and check this one once we have counts of words with 1, 2, 3...appearances\n",
    "* leave one play out\n",
    "* randomly leave out a number of words--simulate multiple times and we should be able to plot emperical bayes estimate and error range"
   ]
  },
  {
   "cell_type": "code",
   "execution_count": 4,
   "metadata": {
    "collapsed": false
   },
   "outputs": [
    {
     "name": "stdout",
     "output_type": "stream",
     "text": [
      "distinct words: 22859\n",
      "total words: 822249\n"
     ]
    }
   ],
   "source": [
    "#create a totalCounter for all plays\n",
    "totalCounter = sum([playCounter for playCounter in CounterDict.values()], Counter())\n",
    "print('distinct words:', len(totalCounter))\n",
    "print('total words:', sum(totalCounter.values()))"
   ]
  },
  {
   "cell_type": "markdown",
   "metadata": {},
   "source": [
    "we have fewer words than CASI example  \n",
    "probably because we are using only play data"
   ]
  },
  {
   "cell_type": "markdown",
   "metadata": {},
   "source": [
    "### Leave one play out"
   ]
  },
  {
   "cell_type": "code",
   "execution_count": 5,
   "metadata": {
    "collapsed": false,
    "scrolled": true
   },
   "outputs": [
    {
     "name": "stdout",
     "output_type": "stream",
     "text": [
      "The Tempest\n",
      "actual new words 217\n",
      "expected new words 167\n",
      "**************************************************\n",
      "The Taming of the Shrew\n",
      "actual new words 237\n",
      "expected new words 217\n",
      "**************************************************\n",
      "Macbeth\n",
      "actual new words 238\n",
      "expected new words 175\n",
      "**************************************************\n",
      "Anthony and Cleopatra\n",
      "actual new words 346\n",
      "expected new words 256\n",
      "**************************************************\n",
      "The First Part of King Henry IV\n",
      "actual new words 282\n",
      "expected new words 250\n",
      "**************************************************\n",
      "Measure for Measure\n",
      "actual new words 220\n",
      "expected new words 224\n",
      "**************************************************\n",
      "Romeo And Juliet\n",
      "actual new words 228\n",
      "expected new words 258\n",
      "**************************************************\n",
      "The Second Part of King Henry IV\n",
      "actual new words 313\n",
      "expected new words 264\n",
      "**************************************************\n",
      "The Third Part of King Henry VI\n",
      "actual new words 186\n",
      "expected new words 250\n",
      "**************************************************\n",
      "Othello, the Moor of Venice\n",
      "actual new words 270\n",
      "expected new words 276\n",
      "**************************************************\n",
      "The Life of King Henry V\n",
      "actual new words 606\n",
      "expected new words 267\n",
      "**************************************************\n",
      "All's Well that Ends Well\n",
      "actual new words 258\n",
      "expected new words 239\n",
      "**************************************************\n",
      "Pericles, Prince of Tyre\n",
      "actual new words 214\n",
      "expected new words 190\n",
      "**************************************************\n",
      "The Tragedy of King Richard III\n",
      "actual new words 196\n",
      "expected new words 307\n",
      "**************************************************\n",
      "As You Like It\n",
      "actual new words 212\n",
      "expected new words 224\n",
      "**************************************************\n",
      "The Famous History of the Life of King Henry VIII\n",
      "actual new words 221\n",
      "expected new words 250\n",
      "**************************************************\n",
      "King Lear\n",
      "actual new words 347\n",
      "expected new words 264\n",
      "**************************************************\n",
      "Coriolanus\n",
      "actual new words 336\n",
      "expected new words 283\n",
      "**************************************************\n",
      "Timon of Athens\n",
      "actual new words 194\n",
      "expected new words 188\n",
      "**************************************************\n",
      "The First Part of King Henry VI\n",
      "actual new words 257\n",
      "expected new words 219\n",
      "**************************************************\n",
      "A Midsummer-Night's Dream\n",
      "actual new words 196\n",
      "expected new words 171\n",
      "**************************************************\n",
      "Titus Andronicus\n",
      "actual new words 178\n",
      "expected new words 213\n",
      "**************************************************\n",
      "Love's Labour's Lost\n",
      "actual new words 372\n",
      "expected new words 219\n",
      "**************************************************\n",
      "Hamlet, Prince of Denmark\n",
      "actual new words 474\n",
      "expected new words 313\n",
      "**************************************************\n",
      "Much Ado About Nothing\n",
      "actual new words 154\n",
      "expected new words 215\n",
      "**************************************************\n",
      "Cymbeline\n",
      "actual new words 285\n",
      "expected new words 288\n",
      "**************************************************\n",
      "The Merry Wives of Windsor\n",
      "actual new words 370\n",
      "expected new words 210\n",
      "**************************************************\n",
      "The Winter's Tale\n",
      "actual new words 302\n",
      "expected new words 261\n",
      "**************************************************\n",
      "The Tragedy of King Richard II\n",
      "actual new words 191\n",
      "expected new words 235\n",
      "**************************************************\n",
      "The Two Gentlemen of Verona\n",
      "actual new words 126\n",
      "expected new words 178\n",
      "**************************************************\n",
      "The Comedy of Errors\n",
      "actual new words 118\n",
      "expected new words 153\n",
      "**************************************************\n",
      "The Merchant Of Venice\n",
      "actual new words 198\n",
      "expected new words 222\n",
      "**************************************************\n",
      "Twelfth-Night; or What You Will\n",
      "actual new words 251\n",
      "expected new words 203\n",
      "**************************************************\n",
      "The Life and Death of King John\n",
      "actual new words 194\n",
      "expected new words 220\n",
      "**************************************************\n",
      "Julius Caesar\n",
      "actual new words 151\n",
      "expected new words 205\n",
      "**************************************************\n",
      "The Second Part of King Henry VI\n",
      "actual new words 258\n",
      "expected new words 255\n",
      "**************************************************\n",
      "Troilus and Cressida\n",
      "actual new words 406\n",
      "expected new words 273\n",
      "**************************************************\n"
     ]
    }
   ],
   "source": [
    "for playName in CounterDict.keys():\n",
    "    print(playName)\n",
    "    #create hold one out counter\n",
    "    hooCounter = totalCounter - CounterDict[playName]\n",
    "    \n",
    "    #use set difference to calculate actual number of \"new words\" in a play\n",
    "    print('actual new words', len(set(CounterDict[playName].keys()) - set(hooCounter.keys())))\n",
    "    \n",
    "    #use \"corbet formula\" to calculate expected number of \"new words\" in a play\n",
    "    t = sum(CounterDict[playName].values())/sum(hooCounter.values())\n",
    "    expectedWords = sum(v*(t**k)*((-1)**(k-1)) for k, v in Counter(hooCounter.values()).items())\n",
    "    print('expected new words', round(expectedWords))\n",
    "    \n",
    "    print('*'*50)"
   ]
  },
  {
   "cell_type": "code",
   "execution_count": null,
   "metadata": {
    "collapsed": true
   },
   "outputs": [],
   "source": []
  }
 ],
 "metadata": {
  "kernelspec": {
   "display_name": "Python [default]",
   "language": "python",
   "name": "python3"
  },
  "language_info": {
   "codemirror_mode": {
    "name": "ipython",
    "version": 3
   },
   "file_extension": ".py",
   "mimetype": "text/x-python",
   "name": "python",
   "nbconvert_exporter": "python",
   "pygments_lexer": "ipython3",
   "version": "3.5.2"
  }
 },
 "nbformat": 4,
 "nbformat_minor": 2
}
