{
 "cells": [
  {
   "cell_type": "code",
   "execution_count": 1,
   "metadata": {
    "collapsed": true
   },
   "outputs": [],
   "source": [
    "import pandas as pd\n",
    "import numpy as np\n",
    "import re\n",
    "import os\n",
    "from collections import Counter"
   ]
  },
  {
   "cell_type": "markdown",
   "metadata": {},
   "source": [
    "Collect the list of txt files for each play and save to spPlays"
   ]
  },
  {
   "cell_type": "code",
   "execution_count": 2,
   "metadata": {
    "collapsed": true
   },
   "outputs": [],
   "source": [
    "#use this list to exclude certain plays\n",
    "excludedPlays = []\n",
    "\n",
    "spDir = 'shakespeare-plays-plus'\n",
    "spSubDir = [spDir + '/'+ x for x in os.listdir(spDir) if '.' not in x]\n",
    "spPlays = []\n",
    "\n",
    "for subDir in spSubDir:\n",
    "    spPlays = spPlays + [subDir + '/' + x for x in os.listdir(subDir) if 'txt' in x and x not in excludedPlays]"
   ]
  },
  {
   "cell_type": "markdown",
   "metadata": {},
   "source": [
    "*CASI Chapter 6* uses Shakespeare vocabulary as an example.  \n",
    "This assumes the appearance of words is similar to insurance claims and we can apply poisson distributions.  \n",
    "**But is that true?** Let's try to validate it using Shakespeare play data.  "
   ]
  },
  {
   "cell_type": "code",
   "execution_count": 25,
   "metadata": {
    "collapsed": false
   },
   "outputs": [],
   "source": [
    "'''\n",
    "This chuck of code reads through text data and generates a Dict\n",
    "Each unique word is a key, and the values are [i, j, k, ...], when a word occurs throughout the text\n",
    "(view it as values on a discrete horizontal time axis)\n",
    "\n",
    "Now someone continue with this...\n",
    "'''\n",
    "\n",
    "wordDict = {}\n",
    "wordCounter = 0\n",
    "\n",
    "#running on only the first play for now\n",
    "#remove [:1] to iterate over all plays once the code is more complete\n",
    "for spPlay in spPlays[:1]:\n",
    "    playName = spPlay.split('/')[-1].split('.')[0]\n",
    "    with open(spPlay, 'r', encoding='utf-16') as playTxt:\n",
    "        for line in playTxt:\n",
    "            if '<' in line:\n",
    "                continue\n",
    "            if line.split():\n",
    "                #no additional text processing other than converting everything to lower case\n",
    "                wordList = re.findall('\\w+', line.lower())\n",
    "                for i, word in enumerate(wordList):\n",
    "                    wordDict[word] = wordDict.get(word, []) + [i+wordCounter]\n",
    "                wordCounter += len(wordList)"
   ]
  }
 ],
 "metadata": {
  "kernelspec": {
   "display_name": "Python [default]",
   "language": "python",
   "name": "python3"
  },
  "language_info": {
   "codemirror_mode": {
    "name": "ipython",
    "version": 3
   },
   "file_extension": ".py",
   "mimetype": "text/x-python",
   "name": "python",
   "nbconvert_exporter": "python",
   "pygments_lexer": "ipython3",
   "version": "3.5.2"
  }
 },
 "nbformat": 4,
 "nbformat_minor": 2
}
